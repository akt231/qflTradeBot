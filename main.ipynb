{
 "cells": [
  {
   "cell_type": "markdown",
   "metadata": {},
   "source": [
    "#Import Modules"
   ]
  },
  {
   "cell_type": "code",
   "execution_count": null,
   "metadata": {},
   "outputs": [],
   "source": [
    "#0 code flow\n",
    "\n",
    "#A historical data collection\n",
    "#1 check if sql directory and store exists\n",
    "#2 if 1 is true, check if any part of date range of required data exists\n",
    "#3 if 2 is true, extract data and extrapolate missing data\n",
    "#4 if 2 not true, get whole historical data from internet\n",
    "#5 perform operations on df from internet\n",
    "#6 add new info to sql store\n",
    "\n",
    "#B websocket live data collection\n",
    "#1 get missing latest data date range\n",
    "#2 extract data live  from websocket\n",
    "#3 perform operations on df from internet\n",
    "#4 add new info to sql store\n"
   ]
  },
  {
   "cell_type": "code",
   "execution_count": null,
   "metadata": {},
   "outputs": [],
   "source": [
    "# This allows multiple outputs from a single jupyter notebook cell:\n",
    "from IPython.core.interactiveshell import InteractiveShell\n",
    "InteractiveShell.ast_node_interactivity = \"all\"\n",
    "\n",
    "%matplotlib inline  \n",
    "import sys\n",
    "import datetime\n",
    "from dateutil.relativedelta import relativedelta\n",
    "from importlib import reload\n",
    "\n",
    "import mplfinance as mpf\n",
    "import matplotlib.pyplot as plt\n",
    "\n",
    "sys.path.insert(1, './logic')  \n",
    "import helperfunctions as hlpf\n",
    "reload(hlpf)"
   ]
  },
  {
   "cell_type": "code",
   "execution_count": null,
   "metadata": {},
   "outputs": [],
   "source": [
    "#get dictionary of all symbol pairs from website\n",
    "allsymbolassets_dct = hlpf.get_allsymbolassets_dct()\n",
    "symbol_pairs_lst = allsymbolassets_dct.get(\"symbol\")\n",
    "base_asset_lst   = allsymbolassets_dct.get(\"baseAsset\")\n",
    "quote_asset_lst  = allsymbolassets_dct.get(\"quoteAsset\")\n",
    "unique_asset_lst = hlpf.get_unique_tickers_lst(base_asset_lst, quote_asset_lst)\n",
    "base_quote_lst_hyphen = list(map((lambda x,y: x + \"-\" + y ), base_asset_lst,quote_asset_lst))\n",
    "base_quote_lst_nohyph = list(map((lambda x,y: x + y ), base_asset_lst,quote_asset_lst))\n",
    "\n",
    "#get list of all to play against\n",
    "all_basequote_lst = []\n",
    "all_basequote_lst.extend(base_quote_lst_hyphen)\n",
    "all_basequote_lst.extend(base_quote_lst_nohyph)\n",
    "\n"
   ]
  },
  {
   "cell_type": "code",
   "execution_count": null,
   "metadata": {},
   "outputs": [],
   "source": [
    "#get symbol pairs to work on from file\n",
    "lines = []\n",
    "symbolfile = \"./inputs/symbols_inputlst.txt\"\n",
    "print(f'symbol pairs will be loaded from\\n',symbolfile)\n",
    "chk_file, illegal_symbpairs_lst, symbol_lst = hlpf.chk_symbolpair_file(all_basequote_lst)\n"
   ]
  },
  {
   "cell_type": "code",
   "execution_count": null,
   "metadata": {},
   "outputs": [],
   "source": [
    "#get interval type to use\n",
    "approved_data_interval_lst = [\"1m\", \"3m\", \"5m\", \"15m\", \"30m\", \"1h\", \"2h\", \"4h\", \"6h\", \"8h\", \"12h\", \"1d\", \"3d\", \"1w\", \"1mo\"]\n",
    "#default_data_interval_lst = [\"5m\", \"1h\", \"1d\"]\n",
    "default_data_interval_lst = [\"1h\", \"1d\"]\n",
    "\n",
    "\n",
    "approved_data_kline_lst = [\"klines\", \"AggTrades\", \"Trades\"]\n",
    "default_data_kline_type = (\"klines\") "
   ]
  },
  {
   "cell_type": "code",
   "execution_count": null,
   "metadata": {},
   "outputs": [],
   "source": [
    "#get dates to use\n",
    "#default value of dates is 3 months prior to today till today\n",
    "today_date_input = datetime.date.today()\n",
    "end_date_dt = today_date_input\n",
    "\n",
    "start_months_val = 3\n",
    "months_val = start_months_val * -1\n",
    "start_date_dt  = hlpf.get_date_from_months(end_date_dt,  months_val)\n",
    "print(f'difference in months btw start date&end date: {start_months_val}')\n",
    "print(f'start date: {start_date_dt}')\n",
    "print(f'end date: {end_date_dt}')"
   ]
  },
  {
   "cell_type": "code",
   "execution_count": null,
   "metadata": {},
   "outputs": [],
   "source": [
    "#print out of all input data to use\n",
    "print(\"=\" * 75)\n",
    "print(f'print out of all input data to use')\n",
    "print(\"=\" * 75)\n",
    "print(f'symbol_lst:                 {symbol_lst}')\n",
    "print(f'start_date_dt:              {start_date_dt}')\n",
    "print(f'end_date_dt:                {end_date_dt}')\n",
    "print(f'default_data_interval_lst:  {default_data_interval_lst}')\n",
    "print(f'default_data_kline_type:    {default_data_kline_type}')"
   ]
  },
  {
   "cell_type": "code",
   "execution_count": null,
   "metadata": {},
   "outputs": [],
   "source": [
    "#required input data\n",
    "#symbol_lst\n",
    "#start_date_dt\n",
    "#end_date_dt\n",
    "#default_data_interval_type\n",
    "#default_data_kline_type\n",
    "kline_input_dct = hlpf.get_kline_dict(symbol_lst, start_date_dt, end_date_dt, default_data_interval_lst, default_data_kline_type)\n"
   ]
  },
  {
   "cell_type": "code",
   "execution_count": null,
   "metadata": {},
   "outputs": [],
   "source": [
    "#check for kline dict data\n",
    "status = kline_input_dct.get(\"status\")\n",
    "if status == \"success\":\n",
    "    print(\"=\" * 75)\n",
    "    print(f\"status:stage 01ofXX: input data for df dict extraction successful\")\n",
    "    print(\"=\" * 75)\n",
    "    print(kline_input_dct)"
   ]
  },
  {
   "cell_type": "code",
   "execution_count": null,
   "metadata": {},
   "outputs": [],
   "source": [
    "#can this section be done with threads asyncronously????\n",
    "#persistency needs to be added to this function!!!!!!!!\n",
    "#need to get the data date parts missing-last day may be missing\n",
    "df_dct = hlpf.get_kline_data(kline_input_dct)\n",
    "status = df_dct.get(\"status\")\n",
    "if status == \"success\":\n",
    "    print(\"=\" * 75)\n",
    "    print(f\"status:stage 02ofXX: raw ochlv df data successfully extracted\")\n",
    "    print(\"=\" * 75)"
   ]
  },
  {
   "cell_type": "code",
   "execution_count": null,
   "metadata": {},
   "outputs": [],
   "source": [
    "#unpack df_dct for use\n",
    "symbols_lst = df_dct.get(\"symbols\") \n",
    "intrvl_lst = df_dct.get(\"interval_lst\")\n",
    "df_lst = df_dct.get(\"df_lst\")\n",
    "df_ochlv_lst = df_dct.get(\"df_ochlv_lst\")\n",
    "all_lst = list(zip(symbols_lst, intrvl_lst, df_lst, df_ochlv_lst ))"
   ]
  },
  {
   "cell_type": "code",
   "execution_count": null,
   "metadata": {},
   "outputs": [],
   "source": [
    "# quick check of data unpacked\n",
    "print(f'nos of symbolpairs: {len(symbols_lst)}')\n",
    "print(f'nos of intervals: {len(intrvl_lst)}')\n",
    "print(f\"nos of full df's: {len(df_lst)}\")\n",
    "print(f\"nos of ochlv df's: {len(df_ochlv_lst)}\")\n",
    "\n",
    "print(f'list of symbolpairs: {symbols_lst}')\n",
    "print(f'list of intervals: {intrvl_lst}')\n",
    "\n",
    "for cnt, (symbol, intrvl, df_full, df_ochlv) in enumerate(all_lst):\n",
    "    print(f'count: {cnt}|symbol: {symbol}|interval:{intrvl}|rows orig df:{len(df_full.index)}|rows ochlv df:{len(df_ochlv.index)}')\n"
   ]
  },
  {
   "cell_type": "code",
   "execution_count": null,
   "metadata": {},
   "outputs": [],
   "source": [
    "# df analysis and new column additions for the ochlv df"
   ]
  },
  {
   "cell_type": "code",
   "execution_count": null,
   "metadata": {},
   "outputs": [],
   "source": [
    "#i need to dynamically access this dates data to transform the plot!!!!!\n",
    "#this needs to be done differently for every type of interval\n",
    "date_from_lst = []\n",
    "date_to_lst = []\n",
    "datapts_btw_start_end = 200\n",
    "datapts_shift = 0 #this usually same as datapts_btw_start_end\n",
    "datapts_shift_factor = 1 #can be a 1,2,3,4 etc\n",
    "for interval in intrvl_lst:\n",
    "    date_ = hlpf.get_sliced_startdate_dt(datapts_btw_start_end, datapts_shift, datapts_shift_factor, interval, end_date_dt)\n",
    "    \n",
    "    date_from = date_[0]\n",
    "    date_to = date_[1]\n",
    "    \n",
    "    date_from_lst.append(date_from)\n",
    "    date_to_lst.append(date_to)\n"
   ]
  },
  {
   "cell_type": "code",
   "execution_count": null,
   "metadata": {},
   "outputs": [],
   "source": [
    "\n",
    "df_full_slicedate_lst = []\n",
    "df_ochlv_slicedate_lst = []\n",
    "all_lst = list(zip(symbols_lst, intrvl_lst, date_from_lst, date_to_lst, df_lst, df_ochlv_lst ))\n",
    "for cnt, (symbol, intrvl, date_from, date_to, df_full, df_ochlv) in enumerate(all_lst):\n",
    "    df_full_slicedate = hlpf.get_historical_data(df_full, str(date_from), str(date_to))\n",
    "    df_ochlv_slicedate = hlpf.get_historical_data(df_ochlv, str(date_from), str(date_to))\n",
    "    \n",
    "    df_full_slicedate_lst.append(df_full_slicedate)\n",
    "    df_ochlv_slicedate_lst.append(df_ochlv_slicedate)\n",
    "\n",
    "#quick check of df dates\n",
    "\n",
    "slicedate_lst = list(zip(symbols_lst, intrvl_lst, df_full_slicedate_lst, df_ochlv_slicedate_lst, df_lst, df_ochlv_lst))   \n",
    "for cnt, (symbol, intrvl, df_full_slicedate, df_ochlv_slicedate, df_full, df_ochlv) in enumerate(slicedate_lst):\n",
    "    print(f'count: {cnt}|symbol: {symbol}|interval: {intrvl}|rows orig df sliced by date:{len(df_full_slicedate.index)} of {len(df_full.index)}|rows ochlv df sliced by date:{len(df_ochlv_slicedate.index)} of {len(df_ochlv.index)}')       \n",
    "\n"
   ]
  },
  {
   "cell_type": "code",
   "execution_count": null,
   "metadata": {},
   "outputs": [],
   "source": [
    "#settings for the matplotlib  plot\n",
    "show_nontrading_days = True\n",
    "chart_styles = [\n",
    "                'default', 'binance', 'blueskies', 'brasil', \n",
    "                'charles', 'checkers', 'classic', 'yahoo',\n",
    "                'mike', 'nightclouds', 'sas', 'starsandstripes'\n",
    "            ]\n",
    "chart_style = chart_styles[1] #let this be selected from chart_styles instead\n",
    "\n",
    "chart_types = ['candle', 'ohlc', 'line', 'renko', 'pnf']\n",
    "chart_type = chart_types[0]\n",
    "\n",
    "\n",
    "#indicator settings\n",
    "#need to correct this properly\n",
    "mav1 = 3 #st.number_input('Mav 1', min_value=3, max_value=30, value=3, step=1)\n",
    "mav2 = 6 #st.number_input('Mav 2', min_value=3, max_value=30, value=6, step=1)\n",
    "mav3 = 9 #st.number_input('Mav 3', min_value=3, max_value=30, value=9, step=1)\n",
    "mavset=(int(mav1),int(mav2),int(mav3))\n"
   ]
  },
  {
   "cell_type": "code",
   "execution_count": null,
   "metadata": {},
   "outputs": [],
   "source": [
    "#list all data going into plot\n",
    "for cnt, (symbol, intrvl, df_full_slicedate, df_ochlv_slicedate, df_full, df_ochlv) in enumerate(slicedate_lst): \n",
    "    print(\"=\" * 50)\n",
    "    print(f'count: {cnt}')\n",
    "    print(f'symbol: {symbol}|date_from: {date_from}|date_to: {date_to}|intrvl: {intrvl}')\n",
    "    print(f'chart_type: {chart_type}|show_nontrading_days: {show_nontrading_days}|mavset: {mavset}|chart_style: {chart_style}')\n",
    "   \n",
    "    hlpf.plotchart(df_ochlv_slicedate, symbol, date_from, date_to, intrvl, chart_type, show_nontrading_days, mavset, chart_style)"
   ]
  }
 ],
 "metadata": {
  "interpreter": {
   "hash": "56016cb50b3b479e05e57a0f9376ed640e7179ceb74220809ca3fb0ee153cacd"
  },
  "kernelspec": {
   "display_name": "Python 3.10.1 64-bit",
   "language": "python",
   "name": "python3"
  },
  "language_info": {
   "codemirror_mode": {
    "name": "ipython",
    "version": 3
   },
   "file_extension": ".py",
   "mimetype": "text/x-python",
   "name": "python",
   "nbconvert_exporter": "python",
   "pygments_lexer": "ipython3",
   "version": "3.10.1"
  },
  "orig_nbformat": 4
 },
 "nbformat": 4,
 "nbformat_minor": 2
}
