{
 "cells": [
  {
   "cell_type": "markdown",
   "metadata": {},
   "source": [
    "#Import Modules"
   ]
  },
  {
   "cell_type": "code",
   "execution_count": null,
   "metadata": {},
   "outputs": [],
   "source": [
    "#0 code flow\n",
    "\n",
    "#A historical data collection\n",
    "#1 check if sql directory and store exists\n",
    "#2 if 1 is true, check if any part of date range of required data exists\n",
    "#3 if 2 is true, extract data and extrapolate missing data\n",
    "#4 if 2 not true, get whole historical data from internet\n",
    "#5 perform operations on df from internet\n",
    "#6 add new info to sql store\n",
    "\n",
    "#B websocket live data collection\n",
    "#1 get missing latest data date range\n",
    "#2 extract data live  from websocket\n",
    "#3 perform operations on df from internet\n",
    "#4 add new info to sql store\n"
   ]
  },
  {
   "cell_type": "code",
   "execution_count": null,
   "metadata": {},
   "outputs": [],
   "source": [
    "%pip install python-binance\n",
    "%pip install mplfinance\n",
    "%pip install wget\n",
    "%pip install python-decouple\n"
   ]
  },
  {
   "cell_type": "code",
   "execution_count": null,
   "metadata": {},
   "outputs": [],
   "source": [
    "# This allows multiple outputs from a single jupyter notebook cell:\n",
    "from IPython.core.interactiveshell import InteractiveShell\n",
    "InteractiveShell.ast_node_interactivity = \"all\"\n",
    "%matplotlib inline \n",
    " \n",
    "import sys\n",
    "from datetime import datetime\n",
    "from datetime import date\n",
    "from dateutil.relativedelta import relativedelta\n",
    "from importlib import reload\n",
    "\n",
    "import mplfinance as mpf\n",
    "import matplotlib.pyplot as plt\n",
    "\n",
    "sys.path.insert(1, './logic')  \n",
    "import helperfunctions as hlpf\n",
    "import gethistoricaldf as ghdf\n",
    "reload(hlpf)\n",
    "reload(ghdf)"
   ]
  },
  {
   "cell_type": "code",
   "execution_count": null,
   "metadata": {},
   "outputs": [],
   "source": [
    "#get all list containing required data for use\n",
    "all_lst = ghdf.getdf()\n",
    "symbols_lst, intrvl_lst, df_lst, df_ochlv_lst = zip(*all_lst)\n"
   ]
  },
  {
   "cell_type": "code",
   "execution_count": null,
   "metadata": {},
   "outputs": [],
   "source": [
    "# quick check of data unpacked\n",
    "print(f'nos of symbolpairs: {len(symbols_lst)}')\n",
    "print(f'nos of intervals: {len(intrvl_lst)}')\n",
    "print(f\"nos of full df's: {len(df_lst)}\")\n",
    "print(f\"nos of ochlv df's: {len(df_ochlv_lst)}\")\n",
    "\n",
    "print(f'list of symbolpairs: {symbols_lst}')\n",
    "print(f'list of intervals: {intrvl_lst}')\n",
    "\n",
    "for cnt, (symbol, intrvl, df_full, df_ochlv) in enumerate(all_lst):\n",
    "    print(f'count: {cnt}|symbol: {symbol}|interval:{intrvl}|rows orig df:{len(df_full.index)}|rows ochlv df:{len(df_ochlv.index)}')\n"
   ]
  },
  {
   "cell_type": "markdown",
   "metadata": {},
   "source": [
    "#add indicators and signals to df"
   ]
  },
  {
   "cell_type": "code",
   "execution_count": null,
   "metadata": {},
   "outputs": [],
   "source": [
    "# df analysis and new column additions for the ochlv df"
   ]
  },
  {
   "cell_type": "markdown",
   "metadata": {},
   "source": [
    "#output matplotlib chart"
   ]
  },
  {
   "cell_type": "code",
   "execution_count": null,
   "metadata": {},
   "outputs": [],
   "source": [
    "#i need to dynamically access this dates data to transform the plot!!!!!\n",
    "#this needs to be done differently for every type of interval\n",
    "datapts_btw_start_end = 200\n",
    "datapts_shift = 0 #this usually same as datapts_btw_start_end\n",
    "datapts_shift_factor = 1 #can be a 1,2,3,4 etc\n",
    "\n",
    "date_from_lst, date_to_lst = hlpf.getsliced_date_lsts(intrvl_lst, datapts_btw_start_end, datapts_shift, datapts_shift_factor)\n"
   ]
  },
  {
   "cell_type": "code",
   "execution_count": null,
   "metadata": {},
   "outputs": [],
   "source": [
    "slicedate_lst = hlpf.get_sliced_df(symbols_lst, intrvl_lst, date_from_lst, date_to_lst, df_lst, df_ochlv_lst)\n",
    "symbols_lst, intrvl_lst, df_full_slicedate_lst, df_ochlv_slicedate_lst, df_lst, df_ochlv_lst = zip(*slicedate_lst)"
   ]
  },
  {
   "cell_type": "code",
   "execution_count": null,
   "metadata": {},
   "outputs": [],
   "source": [
    "#settings for the matplotlib  plot\n",
    "show_nontrading_days = True\n",
    "chart_styles = [\n",
    "                'default', 'binance', 'blueskies', 'brasil', \n",
    "                'charles', 'checkers', 'classic', 'yahoo',\n",
    "                'mike', 'nightclouds', 'sas', 'starsandstripes'\n",
    "            ]\n",
    "chart_style = chart_styles[1] #let this be selected from chart_styles instead\n",
    "\n",
    "chart_types = ['candle', 'ohlc', 'line', 'renko', 'pnf']\n",
    "chart_type = chart_types[0]\n",
    "\n",
    "\n",
    "#indicator settings\n",
    "#need to correct this properly\n",
    "mav1 = 3 #st.number_input('Mav 1', min_value=3, max_value=30, value=3, step=1)\n",
    "mav2 = 6 #st.number_input('Mav 2', min_value=3, max_value=30, value=6, step=1)\n",
    "mav3 = 9 #st.number_input('Mav 3', min_value=3, max_value=30, value=9, step=1)\n",
    "mavset=(int(mav1),int(mav2),int(mav3))\n"
   ]
  },
  {
   "cell_type": "code",
   "execution_count": null,
   "metadata": {},
   "outputs": [],
   "source": [
    "#list all data going into plot\n",
    "for cnt, (symbol, intrvl, df_full_slicedate, df_ochlv_slicedate, df_full, df_ochlv) in enumerate(slicedate_lst): \n",
    "    print(\"=\" * 50)\n",
    "    print(f'count: {cnt}')\n",
    "    print(f'symbol: {symbol}|date_from: {date_from}|date_to: {date_to}|intrvl: {intrvl}')\n",
    "    print(f'chart_type: {chart_type}|show_nontrading_days: {show_nontrading_days}|mavset: {mavset}|chart_style: {chart_style}')\n",
    "   \n",
    "    hlpf.plotchart(df_ochlv_slicedate, symbol, date_from, date_to, intrvl, chart_type, show_nontrading_days, mavset, chart_style)"
   ]
  }
 ],
 "metadata": {
  "kernelspec": {
   "display_name": "floFin",
   "language": "python",
   "name": "python3"
  },
  "language_info": {
   "codemirror_mode": {
    "name": "ipython",
    "version": 3
   },
   "file_extension": ".py",
   "mimetype": "text/x-python",
   "name": "python",
   "nbconvert_exporter": "python",
   "pygments_lexer": "ipython3",
   "version": "3.10.8"
  },
  "orig_nbformat": 4,
  "vscode": {
   "interpreter": {
    "hash": "f43d09124db7e669b3a2b050a7e82f0098c0db92a353e48765cd38a24c04e137"
   }
  }
 },
 "nbformat": 4,
 "nbformat_minor": 2
}
